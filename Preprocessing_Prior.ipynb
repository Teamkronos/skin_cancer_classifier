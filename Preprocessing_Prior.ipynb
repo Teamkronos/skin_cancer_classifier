{
 "cells": [
  {
   "cell_type": "code",
   "execution_count": 1,
   "metadata": {
    "id": "g3U_sbZmlUsC"
   },
   "outputs": [
    {
     "name": "stderr",
     "output_type": "stream",
     "text": [
      "Using TensorFlow backend.\n"
     ]
    }
   ],
   "source": [
    "#LIBRARIES\n",
    "import os\n",
    "import numpy as np\n",
    "import matplotlib.pyplot as plt\n",
    "import cv2\n",
    "import tensorflow as tf\n",
    "from skimage.measure import label\n",
    "from keras.applications.resnet50 import preprocess_input\n",
    "import random\n",
    "import pathlib"
   ]
  },
  {
   "cell_type": "code",
   "execution_count": 10,
   "metadata": {
    "id": "bP-m7N2mCUAK"
   },
   "outputs": [],
   "source": [
    "#DRIVE PATH\n",
    "\n",
    "#path of where images that need to be converted (both train and test)\n",
    "image_path = \"/home/ubuntu/data/3classes/HAM10000_train_by_class/\" #training image path\n",
    "image_path_test = \"/home/ubuntu/data/3classes/HAM10000_test_by_class/\" #testing image path\n",
    "\n",
    "#path of where converted images are put. Please make this describe the nature of the conversion; i.e. train_dull_G-7-7-5-5_M-3\n",
    "    #(the values of the parameters used to convert)\n",
    "image_output_path = \"/home/ubuntu/data/3classes/HAM10000_train_preprocess_G-7-7-5-5_M-7/\"\n",
    "image_output_path_test = \"/home/ubuntu/data/3classes/HAM10000_test_preprocess_G-7-7-5-5_M-7/\"\n",
    "\n",
    "#turn on to create output directory (it does not currently exist). Make False if output directory exists. Note if False, will\n",
    "#clear out the existing output directory; do not use if images you wish to be kept are already in output directory\n",
    "create_output_directory = False\n",
    "\n",
    "#This just triggers the reduction of the images down to imgnum; Set false to retain same amount of images as path you are\n",
    "#converting from. Was put in due to the fact that utilities file can only upsample not downsample.Most likely you will\n",
    "#not be using this.\n",
    "reducedataset = False\n",
    "#change to desired number of images for training; this was simply to do downsampling as I was testing on 2k per class\n",
    "imgnum = 8500"
   ]
  },
  {
   "cell_type": "code",
   "execution_count": 11,
   "metadata": {
    "id": "-UVJ268PCCg4"
   },
   "outputs": [],
   "source": [
    "#HYPER-PARAMETERS FOR DULL RAZOR\n",
    "\n",
    "#resize\n",
    "resizeon = True #triggers resize\n",
    "resizeW = 600 #height of resized image\n",
    "resizeH = 450 #width of resized image\n",
    "ResizeParam = [resizeW, resizeH]\n",
    "\n",
    "#Resize alternative: Retain aspect ratio by cropping down to the central 'square'\n",
    "resizecropon = True #triggers on, overrides resizeon\n",
    "resizealtres = 450 #height and width of resulting square image\n",
    "\n",
    "#dull razor\n",
    "dullrazor = False #turn off to just blur\n",
    "razorblur = \"G\" #M for median, G for Gaussian, have found Gaussian works better for this at cost of removal \n",
    "razorblurnum = 7 #blur number; higher values, greater blur, belive it has to be odd.\n",
    "filterstructure = 7 #will form structure for kernel, higher values increases amount that will be removed. Modify with caution.\n",
    "lowerbound = 5 #15 original; lower boundary for detecting hair in the grayscale image. Higher values will defintely remove hair \n",
    "               #but also may remove important features such as black spots on moles.\n",
    "inpaintmat = 5 #radius of each point inpainted that is considered by the algorithm; higher numbers, more generalized end\n",
    "               #colour that fills in the missing gaps created by removed hair. Ideally would prefer to keep low, but then may\n",
    "               #fail to properly \n",
    "\n",
    "#blur\n",
    "blur = False #turns on blur\n",
    "normalblur = \"M\" #M for Median, G for Gaussian\n",
    "blurnum = 7 #blur number, higher numbers = more blur, belive it has to be odd.\n",
    "\n",
    "#attention mapping was removed due to poor results. If desired for the sake of completeness I can put it back but it may take\n",
    "#some work."
   ]
  },
  {
   "cell_type": "code",
   "execution_count": 12,
   "metadata": {
    "id": "4gBP8Ci51Qqw"
   },
   "outputs": [],
   "source": [
    "#Creating relevant image paths\n",
    "image_path_mel = os.path.join(image_path,\"mel/\")\n",
    "image_path_bcc = os.path.join(image_path,'bcc/')\n",
    "image_path_others = os.path.join(image_path,'others/')\n",
    "\n",
    "image_path_mel_test = os.path.join(image_path_test,\"mel/\")\n",
    "image_path_bcc_test = os.path.join(image_path_test,'bcc/')\n",
    "image_path_others_test = os.path.join(image_path_test,'others/')\n",
    "\n",
    "image_output_mel = os.path.join(image_output_path,'mel/')\n",
    "image_output_bcc = os.path.join(image_output_path,'bcc/')\n",
    "image_output_others = os.path.join(image_output_path,'others/')\n",
    "\n",
    "image_output_mel_test = os.path.join(image_output_path_test,'mel/')\n",
    "image_output_bcc_test = os.path.join(image_output_path_test,'bcc/')\n",
    "image_output_others_test = os.path.join(image_output_path_test,'others/')\n",
    "\n",
    "#for loading all images in the dataset\n",
    "def loadImages(path):\n",
    "    image_files = sorted([os.path.join(path, file)\n",
    "                          for file in os.listdir(path)\n",
    "                          if file.endswith('.jpg')\n",
    "                         ])\n",
    "    return image_files\n",
    "#note: issue with PADUFES oncerning this as the base images are png but the augmented images are jpg. Having trouble\n",
    "#running the conversion through PADUFES regardless though, not entirely sure why. Check total counts of before/after\n",
    "#to ensure full conversion\n",
    "\n",
    "\n",
    "#for actually converting them to images\n",
    "def read_image_cv2(Dataset):  \n",
    "  img = [cv2.imread(i, cv2.IMREAD_UNCHANGED,) for i in Dataset[:len(Dataset)]]\n",
    "  return img"
   ]
  },
  {
   "cell_type": "code",
   "execution_count": 13,
   "metadata": {},
   "outputs": [
    {
     "data": {
      "text/plain": [
       "\"\\nfiles = os.listdir('3classes/HAM10000_train_by_class/others')\\notherscount = 0\\nfor path in pathlib.Path('3classes/HAM10000_train_by_class/others').iterdir():\\n    if path.is_file():\\n        otherscount += 1\\nfor file in random.sample(files,otherscount-imgnum):\\n    os.remove(os.path.join('3classes/HAM10000_train_by_class/others',file))\\n\""
      ]
     },
     "execution_count": 13,
     "metadata": {},
     "output_type": "execute_result"
    }
   ],
   "source": [
    "#only do this if you wish to reduce the dataset you are converting from down to imgnum as well. This is not recommended as this\n",
    "#will likely mean you are deleting parts of your current base dataset, but is useful for comparison if you are testing against\n",
    "#a smaller dataset set by imgnum; i.e. a 2k per class set, so the original also needs to be 2k per class set\n",
    "#as above regarding imgnum, you will most likely not be using this.\n",
    "\"\"\"\n",
    "files = os.listdir(image_path_others)\n",
    "otherscount = 0\n",
    "for path in pathlib.Path(image_path_others).iterdir():\n",
    "    if path.is_file():\n",
    "        otherscount += 1\n",
    "for file in random.sample(files,otherscount-imgnum):\n",
    "    os.remove(os.path.join('image_path_others',file))\n",
    "\"\"\""
   ]
  },
  {
   "cell_type": "code",
   "execution_count": 14,
   "metadata": {
    "id": "k9uthYuEsGbf"
   },
   "outputs": [],
   "source": [
    "#RESIZE IMAGE\n",
    "def resize(Image,ResizeParam):\n",
    "    #resize\n",
    "    dim = (ResizeParam[0], ResizeParam[1])\n",
    "    res_img = []\n",
    "    if resizeon == True:\n",
    "        for i in range(len(Image)):\n",
    "            res = cv2.resize(Image[i], dim, interpolation=cv2.INTER_LINEAR)\n",
    "            res_img.append(res)\n",
    "    else:\n",
    "        res_img = Image\n",
    "    return res_img\n",
    "\n",
    "#Resize but has to be down to square, assuming mole would be in the middle 'square'\n",
    "def retainaspectresize(images,resolution):\n",
    "    res_images = []\n",
    "    for image in images:\n",
    "        h,w,d = image.shape\n",
    "        if h > w:\n",
    "            croppedimg = image[0:w,int(round(h/2-w/2)):int(round(h/2+w/2))]\n",
    "            resimg = cv2.resize(croppedimg, (resolution,resolution), interpolation=cv2.INTER_LINEAR)\n",
    "        elif w > h:\n",
    "            croppedimg = image[int(round(w/2-h/2)):int(round(w/2+h/2)),0:h]\n",
    "            resimg = cv2.resize(croppedimg, (resolution,resolution), interpolation=cv2.INTER_LINEAR)\n",
    "        else:\n",
    "            resimg = cv2.resize(image,(resolution,resolution),interpolation=cv2.INTER_LINEAR)\n",
    "        res_images.append(resimg)\n",
    "    return res_images\n",
    "\n",
    "#REMOVING HAIR USING DULL RAZOR\n",
    "def dull_razor(ResizedImages):\n",
    "    #dull razor\n",
    "    hair_removed_images = []\n",
    "    if dullrazor == True:\n",
    "        for i in range(len(ResizedImages)):\n",
    "            if razorblur == \"M\":\n",
    "                tempimg = cv2.medianBlur(ResizedImages[i],razorblurnum)\n",
    "            elif razorblur == \"G\":\n",
    "                tempimg = cv2.GaussianBlur(ResizedImages[i], (razorblurnum, razorblurnum),0)\n",
    "            else:\n",
    "                tempimg = ResizedImages[i]\n",
    "            gyimage = cv2.cvtColor(tempimg, cv2.COLOR_RGB2GRAY)\n",
    "            filtersize = (filterstructure,filterstructure)\n",
    "            kernelrazor = cv2.getStructuringElement(cv2.MORPH_RECT, filtersize)\n",
    "            gyimage = cv2.morphologyEx(gyimage, cv2.MORPH_BLACKHAT, kernelrazor)\n",
    "\n",
    "            retrazor, maskrazor = cv2.threshold(gyimage, lowerbound, 255, cv2.THRESH_BINARY)\n",
    "            x = cv2.inpaint(ResizedImages[i], maskrazor, inpaintmat, cv2.INPAINT_TELEA)\n",
    "            hair_removed_images.append(x)\n",
    "        return hair_removed_images\n",
    "    else:\n",
    "        return ResizedImages\n",
    "\n",
    "#BLUR AFTER REMOVING HAIR\n",
    "def blur(HairRemovedImages):\n",
    "    #blur\n",
    "    if blur == True:\n",
    "        if normalblur == \"M\":\n",
    "            for i in range(len(HairRemovedImages)):\n",
    "                HairRemovedImages[i] = cv2.medianBlur(HairRemovedImages[i], blurnum)\n",
    "        elif normalblur == \"G\":\n",
    "            for i in range(len(HairRemovedImages)): \n",
    "                HairRemovedImages[i] = cv2.GaussianBlur(HairRemovedImages[i], (blurnum, blurnum), 0)\n",
    "    return HairRemovedImages"
   ]
  },
  {
   "cell_type": "code",
   "execution_count": 15,
   "metadata": {},
   "outputs": [],
   "source": [
    "#deleting random elements only if you are downsampling\n",
    "def delete_random_elems(input_list,n):\n",
    "    to_delete = set(random.sample(range(len(input_list)),n))\n",
    "    return[x for i,x in enumerate(input_list) if not i in to_delete]"
   ]
  },
  {
   "cell_type": "code",
   "execution_count": 16,
   "metadata": {},
   "outputs": [],
   "source": [
    "#clear out output directory if create directory off, else creates directory\n",
    "if create_output_directory == False:\n",
    "    for root, dirs, files in os.walk(image_output_others):\n",
    "        for file in files:\n",
    "            os.remove(os.path.join(root, file))\n",
    "    for root, dirs, files in os.walk(image_output_mel):\n",
    "        for file in files:\n",
    "            os.remove(os.path.join(root, file))\n",
    "    for root, dirs, files in os.walk(image_output_bcc):\n",
    "        for file in files:\n",
    "            os.remove(os.path.join(root, file))\n",
    "    for root, dirs, files in os.walk(image_output_others_test):\n",
    "        for file in files:\n",
    "            os.remove(os.path.join(root, file))\n",
    "    for root, dirs, files in os.walk(image_output_mel_test):\n",
    "        for file in files:\n",
    "            os.remove(os.path.join(root, file))\n",
    "    for root, dirs, files in os.walk(image_output_bcc_test):\n",
    "        for file in files:\n",
    "            os.remove(os.path.join(root, file))\n",
    "elif create_output_directory == True:\n",
    "    os.mkdir(image_output_path)\n",
    "    os.mkdir(image_output_mel)\n",
    "    os.mkdir(image_output_bcc)\n",
    "    os.mkdir(image_output_others)\n",
    "    os.mkdir(image_output_path_test)\n",
    "    os.mkdir(image_output_mel_test)\n",
    "    os.mkdir(image_output_bcc_test)\n",
    "    os.mkdir(image_output_others_test)"
   ]
  },
  {
   "cell_type": "code",
   "execution_count": 1,
   "metadata": {},
   "outputs": [
    {
     "ename": "NameError",
     "evalue": "name 'pathlib' is not defined",
     "output_type": "error",
     "traceback": [
      "\u001b[0;31m---------------------------------------------------------------------------\u001b[0m",
      "\u001b[0;31mNameError\u001b[0m                                 Traceback (most recent call last)",
      "\u001b[0;32m<ipython-input-1-166b80cbf824>\u001b[0m in \u001b[0;36m<module>\u001b[0;34m\u001b[0m\n\u001b[1;32m      2\u001b[0m \u001b[0;34m\u001b[0m\u001b[0m\n\u001b[1;32m      3\u001b[0m \u001b[0mmelcount\u001b[0m \u001b[0;34m=\u001b[0m \u001b[0;36m0\u001b[0m\u001b[0;34m\u001b[0m\u001b[0;34m\u001b[0m\u001b[0m\n\u001b[0;32m----> 4\u001b[0;31m \u001b[0;32mfor\u001b[0m \u001b[0mpath\u001b[0m \u001b[0;32min\u001b[0m \u001b[0mpathlib\u001b[0m\u001b[0;34m.\u001b[0m\u001b[0mPath\u001b[0m\u001b[0;34m(\u001b[0m\u001b[0mimage_path_mel\u001b[0m\u001b[0;34m)\u001b[0m\u001b[0;34m.\u001b[0m\u001b[0miterdir\u001b[0m\u001b[0;34m(\u001b[0m\u001b[0;34m)\u001b[0m\u001b[0;34m:\u001b[0m\u001b[0;34m\u001b[0m\u001b[0;34m\u001b[0m\u001b[0m\n\u001b[0m\u001b[1;32m      5\u001b[0m     \u001b[0;32mif\u001b[0m \u001b[0mpath\u001b[0m\u001b[0;34m.\u001b[0m\u001b[0mis_file\u001b[0m\u001b[0;34m(\u001b[0m\u001b[0;34m)\u001b[0m\u001b[0;34m:\u001b[0m\u001b[0;34m\u001b[0m\u001b[0;34m\u001b[0m\u001b[0m\n\u001b[1;32m      6\u001b[0m         \u001b[0mmelcount\u001b[0m \u001b[0;34m+=\u001b[0m \u001b[0;36m1\u001b[0m\u001b[0;34m\u001b[0m\u001b[0;34m\u001b[0m\u001b[0m\n",
      "\u001b[0;31mNameError\u001b[0m: name 'pathlib' is not defined"
     ]
    }
   ],
   "source": [
    "#check number of files in those directories here\n",
    "#these count the contents of the input directory\n",
    "melcount = 0\n",
    "for path in pathlib.Path(image_path_mel).iterdir():\n",
    "    if path.is_file():\n",
    "        melcount += 1\n",
    "print(\"Mel Train: \",melcount)\n",
    "otherscount = 0\n",
    "for path in pathlib.Path(image_path_others).iterdir():\n",
    "    if path.is_file():\n",
    "        otherscount += 1\n",
    "print(\"Others Train: \",otherscount)\n",
    "bcccount = 0\n",
    "for path in pathlib.Path(image_path_bcc).iterdir():\n",
    "    if path.is_file():\n",
    "        bcccount += 1\n",
    "print(\"BCC Train: \",bcccount)\n",
    "melcount = 0\n",
    "for path in pathlib.Path(image_path_mel_test).iterdir():\n",
    "    if path.is_file():\n",
    "        melcount += 1\n",
    "print(\"Mel Test: \",melcount)\n",
    "otherscount = 0\n",
    "for path in pathlib.Path(image_path_others_test).iterdir():\n",
    "    if path.is_file():\n",
    "        otherscount += 1\n",
    "print(\"Others Test: \",otherscount)\n",
    "bcccount = 0\n",
    "for path in pathlib.Path(image_path_bcc_test).iterdir():\n",
    "    if path.is_file():\n",
    "        bcccount += 1\n",
    "print(\"BCC Test: \",bcccount)"
   ]
  },
  {
   "cell_type": "code",
   "execution_count": null,
   "metadata": {},
   "outputs": [],
   "source": [
    "#conversion for \"others\" training set\n",
    "data = loadImages(image_path_others)\n",
    "if reducedataset == True:\n",
    "    data = delete_random_elems(data,len(data)-imgnum)\n",
    "img = read_image_cv2(data)\n",
    "if resizecropon == True:\n",
    "    res_img = retainaspectresize(img,resizealtres)\n",
    "else:\n",
    "    res_img = resize(img, ResizeParam)\n",
    "hair_removed_image = dull_razor(res_img)\n",
    "dull_blur_images = blur(hair_removed_image)\n",
    "imagecount = 0\n",
    "for i in dull_blur_images:\n",
    "    cv2.imwrite(os.path.join(image_output_others,str(imagecount)+\".jpg\"),i)\n",
    "    imagecount=imagecount+1\n",
    "\n",
    "print(\"Others train done\")"
   ]
  },
  {
   "cell_type": "code",
   "execution_count": null,
   "metadata": {},
   "outputs": [],
   "source": [
    "#conversion for \"others\" test set\n",
    "data = loadImages(image_path_others_test)\n",
    "img = read_image_cv2(data)\n",
    "if resizecropon == True:\n",
    "    res_img = retainaspectresize(img,resizealtres)\n",
    "else:\n",
    "    res_img = resize(img, ResizeParam)\n",
    "hair_removed_image = dull_razor(res_img)\n",
    "dull_blur_images = blur(hair_removed_image)\n",
    "imagecount = 0\n",
    "for i in dull_blur_images:\n",
    "    cv2.imwrite(os.path.join(image_output_others_test,str(imagecount)+\".jpg\"),i)\n",
    "    imagecount=imagecount+1\n",
    "\n",
    "print(\"Others test done\")"
   ]
  },
  {
   "cell_type": "code",
   "execution_count": null,
   "metadata": {},
   "outputs": [],
   "source": [
    "#conversion for \"mel\" training set\n",
    "data = loadImages(image_path_mel)\n",
    "if reducedataset == True:\n",
    "    data = delete_random_elems(data,len(data)-imgnum)\n",
    "img = read_image_cv2(data)\n",
    "if resizecropon == True:\n",
    "    res_img = retainaspectresize(img,resizealtres)\n",
    "else:\n",
    "    res_img = resize(img, ResizeParam)\n",
    "hair_removed_image = dull_razor(res_img)\n",
    "dull_blur_images = hair_removed_image_furtherbluring = blur(hair_removed_image)\n",
    "imagecount = 0\n",
    "for i in dull_blur_images:\n",
    "    cv2.imwrite(os.path.join(image_output_mel,str(imagecount)+\".jpg\"),i)\n",
    "    imagecount=imagecount+1\n",
    "print(\"Mel Train done\")"
   ]
  },
  {
   "cell_type": "code",
   "execution_count": null,
   "metadata": {},
   "outputs": [],
   "source": [
    "#conversion for \"mel\" test set\n",
    "data = loadImages(image_path_mel_test)\n",
    "img = read_image_cv2(data)\n",
    "if resizecropon == True:\n",
    "    res_img = retainaspectresize(img,resizealtres)\n",
    "else:\n",
    "    res_img = resize(img, ResizeParam)\n",
    "hair_removed_image = dull_razor(res_img)\n",
    "dull_blur_images = hair_removed_image_furtherbluring = blur(hair_removed_image)\n",
    "imagecount = 0\n",
    "for i in dull_blur_images:\n",
    "    cv2.imwrite(os.path.join(image_output_mel_test,str(imagecount)+\".jpg\"),i)\n",
    "    imagecount=imagecount+1\n",
    "print(\"Mel test done\")"
   ]
  },
  {
   "cell_type": "code",
   "execution_count": null,
   "metadata": {},
   "outputs": [],
   "source": [
    "#conversion for \"bcc\" training set\n",
    "data = loadImages(image_path_bcc)\n",
    "if reducedataset == True:\n",
    "    data = delete_random_elems(data,len(data)-imgnum)\n",
    "img = read_image_cv2(data)\n",
    "if resizecropon == True:\n",
    "    res_img = retainaspectresize(img,resizealtres)\n",
    "else:\n",
    "    res_img = resize(img, ResizeParam)\n",
    "hair_removed_image = dull_razor(res_img)\n",
    "dull_blur_images = hair_removed_image_furtherbluring = blur(hair_removed_image)\n",
    "imagecount = 0\n",
    "for i in dull_blur_images:\n",
    "    cv2.imwrite(os.path.join(image_output_bcc,str(imagecount)+\".jpg\"),i)\n",
    "    imagecount=imagecount+1\n",
    "print(\"BCC Train done\")"
   ]
  },
  {
   "cell_type": "code",
   "execution_count": null,
   "metadata": {
    "colab": {
     "base_uri": "https://localhost:8080/",
     "height": 342
    },
    "id": "Xb8xnksivg_1",
    "outputId": "e42cbba2-91e9-4f35-d7b7-14dfc36b2383"
   },
   "outputs": [],
   "source": [
    "#conversion for \"bcc\" test set\n",
    "data = loadImages(image_path_bcc_test)\n",
    "img = read_image_cv2(data)\n",
    "if resizecropon == True:\n",
    "    res_img = retainaspectresize(img,resizealtres)\n",
    "else:\n",
    "    res_img = resize(img, ResizeParam)\n",
    "hair_removed_image = dull_razor(res_img)\n",
    "dull_blur_images = hair_removed_image_furtherbluring = blur(hair_removed_image)\n",
    "imagecount = 0\n",
    "for i in dull_blur_images:\n",
    "    cv2.imwrite(os.path.join(image_output_bcc_test,str(imagecount)+\".jpg\"),i)\n",
    "    imagecount=imagecount+1\n",
    "print(\"BCC Test done\")"
   ]
  },
  {
   "cell_type": "code",
   "execution_count": null,
   "metadata": {},
   "outputs": [],
   "source": [
    "#check number of files in those directories here\n",
    "#these count the contents of the output directory\n",
    "melcount = 0\n",
    "for path in pathlib.Path(image_output_mel).iterdir():\n",
    "    if path.is_file():\n",
    "        melcount += 1\n",
    "print(\"Mel Train: \",melcount)\n",
    "otherscount = 0\n",
    "for path in pathlib.Path(image_output_others).iterdir():\n",
    "    if path.is_file():\n",
    "        otherscount += 1\n",
    "print(\"Others Train: \",otherscount)\n",
    "bcccount = 0\n",
    "for path in pathlib.Path(image_output_bcc).iterdir():\n",
    "    if path.is_file():\n",
    "        bcccount += 1\n",
    "print(\"BCC Train: \",bcccount)\n",
    "melcount = 0\n",
    "for path in pathlib.Path(image_output_mel_test).iterdir():\n",
    "    if path.is_file():\n",
    "        melcount += 1\n",
    "print(\"Mel Test: \",melcount)\n",
    "otherscount = 0\n",
    "for path in pathlib.Path(image_output_others_test).iterdir():\n",
    "    if path.is_file():\n",
    "        otherscount += 1\n",
    "print(\"Others Test: \",otherscount)\n",
    "bcccount = 0\n",
    "for path in pathlib.Path(image_output_bcc_test).iterdir():\n",
    "    if path.is_file():\n",
    "        bcccount += 1\n",
    "print(\"BCC Test: \",bcccount)"
   ]
  },
  {
   "cell_type": "code",
   "execution_count": null,
   "metadata": {},
   "outputs": [],
   "source": []
  }
 ],
 "metadata": {
  "colab": {
   "collapsed_sections": [],
   "name": "Preprocessing_Single",
   "provenance": []
  },
  "kernelspec": {
   "display_name": "Python 3",
   "language": "python",
   "name": "python3"
  },
  "language_info": {
   "codemirror_mode": {
    "name": "ipython",
    "version": 3
   },
   "file_extension": ".py",
   "mimetype": "text/x-python",
   "name": "python",
   "nbconvert_exporter": "python",
   "pygments_lexer": "ipython3",
   "version": "3.8.5"
  }
 },
 "nbformat": 4,
 "nbformat_minor": 1
}
