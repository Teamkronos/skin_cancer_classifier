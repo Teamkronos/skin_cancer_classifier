{
 "cells": [
  {
   "cell_type": "code",
   "execution_count": 49,
   "metadata": {},
   "outputs": [],
   "source": [
    "import os\n",
    "import pandas as pd\n",
    "import shutil\n",
    "import matplotlib.pyplot as plot\n",
    "import seaborn as sns\n",
    "sns.set()"
   ]
  },
  {
   "cell_type": "code",
   "execution_count": 50,
   "metadata": {},
   "outputs": [
    {
     "data": {
      "text/plain": [
       "'C:\\\\Users\\\\60078468'"
      ]
     },
     "execution_count": 50,
     "metadata": {},
     "output_type": "execute_result"
    }
   ],
   "source": [
    "os.getcwd()"
   ]
  },
  {
   "cell_type": "code",
   "execution_count": 51,
   "metadata": {},
   "outputs": [],
   "source": [
    "skin_data = pd.read_csv('C:/Users/60078468/Downloads/PAD-UFES-20/metadata.csv')"
   ]
  },
  {
   "cell_type": "code",
   "execution_count": 52,
   "metadata": {},
   "outputs": [
    {
     "data": {
      "text/html": [
       "<div>\n",
       "<style scoped>\n",
       "    .dataframe tbody tr th:only-of-type {\n",
       "        vertical-align: middle;\n",
       "    }\n",
       "\n",
       "    .dataframe tbody tr th {\n",
       "        vertical-align: top;\n",
       "    }\n",
       "\n",
       "    .dataframe thead th {\n",
       "        text-align: right;\n",
       "    }\n",
       "</style>\n",
       "<table border=\"1\" class=\"dataframe\">\n",
       "  <thead>\n",
       "    <tr style=\"text-align: right;\">\n",
       "      <th></th>\n",
       "      <th>patient_id</th>\n",
       "      <th>lesion_id</th>\n",
       "      <th>smoke</th>\n",
       "      <th>drink</th>\n",
       "      <th>background_father</th>\n",
       "      <th>background_mother</th>\n",
       "      <th>age</th>\n",
       "      <th>pesticide</th>\n",
       "      <th>gender</th>\n",
       "      <th>skin_cancer_history</th>\n",
       "      <th>...</th>\n",
       "      <th>diameter_2</th>\n",
       "      <th>diagnostic</th>\n",
       "      <th>itch</th>\n",
       "      <th>grew</th>\n",
       "      <th>hurt</th>\n",
       "      <th>changed</th>\n",
       "      <th>bleed</th>\n",
       "      <th>elevation</th>\n",
       "      <th>img_id</th>\n",
       "      <th>biopsed</th>\n",
       "    </tr>\n",
       "  </thead>\n",
       "  <tbody>\n",
       "    <tr>\n",
       "      <td>0</td>\n",
       "      <td>PAT_1516</td>\n",
       "      <td>1765</td>\n",
       "      <td>NaN</td>\n",
       "      <td>NaN</td>\n",
       "      <td>NaN</td>\n",
       "      <td>NaN</td>\n",
       "      <td>8</td>\n",
       "      <td>NaN</td>\n",
       "      <td>NaN</td>\n",
       "      <td>NaN</td>\n",
       "      <td>...</td>\n",
       "      <td>NaN</td>\n",
       "      <td>NEV</td>\n",
       "      <td>False</td>\n",
       "      <td>False</td>\n",
       "      <td>False</td>\n",
       "      <td>False</td>\n",
       "      <td>False</td>\n",
       "      <td>False</td>\n",
       "      <td>PAT_1516_1765_530.png</td>\n",
       "      <td>False</td>\n",
       "    </tr>\n",
       "    <tr>\n",
       "      <td>1</td>\n",
       "      <td>PAT_46</td>\n",
       "      <td>881</td>\n",
       "      <td>False</td>\n",
       "      <td>False</td>\n",
       "      <td>POMERANIA</td>\n",
       "      <td>POMERANIA</td>\n",
       "      <td>55</td>\n",
       "      <td>False</td>\n",
       "      <td>FEMALE</td>\n",
       "      <td>True</td>\n",
       "      <td>...</td>\n",
       "      <td>5.0</td>\n",
       "      <td>BCC</td>\n",
       "      <td>True</td>\n",
       "      <td>True</td>\n",
       "      <td>False</td>\n",
       "      <td>True</td>\n",
       "      <td>True</td>\n",
       "      <td>True</td>\n",
       "      <td>PAT_46_881_939.png</td>\n",
       "      <td>True</td>\n",
       "    </tr>\n",
       "    <tr>\n",
       "      <td>2</td>\n",
       "      <td>PAT_1545</td>\n",
       "      <td>1867</td>\n",
       "      <td>NaN</td>\n",
       "      <td>NaN</td>\n",
       "      <td>NaN</td>\n",
       "      <td>NaN</td>\n",
       "      <td>77</td>\n",
       "      <td>NaN</td>\n",
       "      <td>NaN</td>\n",
       "      <td>NaN</td>\n",
       "      <td>...</td>\n",
       "      <td>NaN</td>\n",
       "      <td>ACK</td>\n",
       "      <td>True</td>\n",
       "      <td>False</td>\n",
       "      <td>False</td>\n",
       "      <td>False</td>\n",
       "      <td>False</td>\n",
       "      <td>False</td>\n",
       "      <td>PAT_1545_1867_547.png</td>\n",
       "      <td>False</td>\n",
       "    </tr>\n",
       "    <tr>\n",
       "      <td>3</td>\n",
       "      <td>PAT_1989</td>\n",
       "      <td>4061</td>\n",
       "      <td>NaN</td>\n",
       "      <td>NaN</td>\n",
       "      <td>NaN</td>\n",
       "      <td>NaN</td>\n",
       "      <td>75</td>\n",
       "      <td>NaN</td>\n",
       "      <td>NaN</td>\n",
       "      <td>NaN</td>\n",
       "      <td>...</td>\n",
       "      <td>NaN</td>\n",
       "      <td>ACK</td>\n",
       "      <td>True</td>\n",
       "      <td>False</td>\n",
       "      <td>False</td>\n",
       "      <td>False</td>\n",
       "      <td>False</td>\n",
       "      <td>False</td>\n",
       "      <td>PAT_1989_4061_934.png</td>\n",
       "      <td>False</td>\n",
       "    </tr>\n",
       "    <tr>\n",
       "      <td>4</td>\n",
       "      <td>PAT_684</td>\n",
       "      <td>1302</td>\n",
       "      <td>False</td>\n",
       "      <td>True</td>\n",
       "      <td>POMERANIA</td>\n",
       "      <td>POMERANIA</td>\n",
       "      <td>79</td>\n",
       "      <td>False</td>\n",
       "      <td>MALE</td>\n",
       "      <td>True</td>\n",
       "      <td>...</td>\n",
       "      <td>5.0</td>\n",
       "      <td>BCC</td>\n",
       "      <td>True</td>\n",
       "      <td>True</td>\n",
       "      <td>False</td>\n",
       "      <td>False</td>\n",
       "      <td>True</td>\n",
       "      <td>True</td>\n",
       "      <td>PAT_684_1302_588.png</td>\n",
       "      <td>True</td>\n",
       "    </tr>\n",
       "    <tr>\n",
       "      <td>...</td>\n",
       "      <td>...</td>\n",
       "      <td>...</td>\n",
       "      <td>...</td>\n",
       "      <td>...</td>\n",
       "      <td>...</td>\n",
       "      <td>...</td>\n",
       "      <td>...</td>\n",
       "      <td>...</td>\n",
       "      <td>...</td>\n",
       "      <td>...</td>\n",
       "      <td>...</td>\n",
       "      <td>...</td>\n",
       "      <td>...</td>\n",
       "      <td>...</td>\n",
       "      <td>...</td>\n",
       "      <td>...</td>\n",
       "      <td>...</td>\n",
       "      <td>...</td>\n",
       "      <td>...</td>\n",
       "      <td>...</td>\n",
       "      <td>...</td>\n",
       "    </tr>\n",
       "    <tr>\n",
       "      <td>2293</td>\n",
       "      <td>PAT_1708</td>\n",
       "      <td>3156</td>\n",
       "      <td>NaN</td>\n",
       "      <td>NaN</td>\n",
       "      <td>NaN</td>\n",
       "      <td>NaN</td>\n",
       "      <td>73</td>\n",
       "      <td>NaN</td>\n",
       "      <td>NaN</td>\n",
       "      <td>NaN</td>\n",
       "      <td>...</td>\n",
       "      <td>NaN</td>\n",
       "      <td>ACK</td>\n",
       "      <td>True</td>\n",
       "      <td>False</td>\n",
       "      <td>False</td>\n",
       "      <td>False</td>\n",
       "      <td>False</td>\n",
       "      <td>False</td>\n",
       "      <td>PAT_1708_3156_175.png</td>\n",
       "      <td>False</td>\n",
       "    </tr>\n",
       "    <tr>\n",
       "      <td>2294</td>\n",
       "      <td>PAT_46</td>\n",
       "      <td>880</td>\n",
       "      <td>False</td>\n",
       "      <td>False</td>\n",
       "      <td>POMERANIA</td>\n",
       "      <td>POMERANIA</td>\n",
       "      <td>55</td>\n",
       "      <td>False</td>\n",
       "      <td>FEMALE</td>\n",
       "      <td>True</td>\n",
       "      <td>...</td>\n",
       "      <td>12.0</td>\n",
       "      <td>BCC</td>\n",
       "      <td>True</td>\n",
       "      <td>True</td>\n",
       "      <td>False</td>\n",
       "      <td>True</td>\n",
       "      <td>False</td>\n",
       "      <td>False</td>\n",
       "      <td>PAT_46_880_140.png</td>\n",
       "      <td>True</td>\n",
       "    </tr>\n",
       "    <tr>\n",
       "      <td>2295</td>\n",
       "      <td>PAT_1343</td>\n",
       "      <td>1217</td>\n",
       "      <td>NaN</td>\n",
       "      <td>NaN</td>\n",
       "      <td>NaN</td>\n",
       "      <td>NaN</td>\n",
       "      <td>74</td>\n",
       "      <td>NaN</td>\n",
       "      <td>NaN</td>\n",
       "      <td>NaN</td>\n",
       "      <td>...</td>\n",
       "      <td>NaN</td>\n",
       "      <td>SEK</td>\n",
       "      <td>False</td>\n",
       "      <td>False</td>\n",
       "      <td>False</td>\n",
       "      <td>False</td>\n",
       "      <td>False</td>\n",
       "      <td>False</td>\n",
       "      <td>PAT_1343_1217_404.png</td>\n",
       "      <td>False</td>\n",
       "    </tr>\n",
       "    <tr>\n",
       "      <td>2296</td>\n",
       "      <td>PAT_326</td>\n",
       "      <td>690</td>\n",
       "      <td>False</td>\n",
       "      <td>False</td>\n",
       "      <td>POMERANIA</td>\n",
       "      <td>POMERANIA</td>\n",
       "      <td>58</td>\n",
       "      <td>True</td>\n",
       "      <td>FEMALE</td>\n",
       "      <td>True</td>\n",
       "      <td>...</td>\n",
       "      <td>4.0</td>\n",
       "      <td>BCC</td>\n",
       "      <td>True</td>\n",
       "      <td>False</td>\n",
       "      <td>False</td>\n",
       "      <td>False</td>\n",
       "      <td>False</td>\n",
       "      <td>True</td>\n",
       "      <td>PAT_326_690_823.png</td>\n",
       "      <td>True</td>\n",
       "    </tr>\n",
       "    <tr>\n",
       "      <td>2297</td>\n",
       "      <td>PAT_1714</td>\n",
       "      <td>3189</td>\n",
       "      <td>NaN</td>\n",
       "      <td>NaN</td>\n",
       "      <td>NaN</td>\n",
       "      <td>NaN</td>\n",
       "      <td>41</td>\n",
       "      <td>NaN</td>\n",
       "      <td>NaN</td>\n",
       "      <td>NaN</td>\n",
       "      <td>...</td>\n",
       "      <td>NaN</td>\n",
       "      <td>SEK</td>\n",
       "      <td>False</td>\n",
       "      <td>True</td>\n",
       "      <td>False</td>\n",
       "      <td>False</td>\n",
       "      <td>False</td>\n",
       "      <td>True</td>\n",
       "      <td>PAT_1714_3189_989.png</td>\n",
       "      <td>False</td>\n",
       "    </tr>\n",
       "  </tbody>\n",
       "</table>\n",
       "<p>2298 rows × 26 columns</p>\n",
       "</div>"
      ],
      "text/plain": [
       "     patient_id  lesion_id  smoke  drink background_father background_mother  \\\n",
       "0      PAT_1516       1765    NaN    NaN               NaN               NaN   \n",
       "1        PAT_46        881  False  False         POMERANIA         POMERANIA   \n",
       "2      PAT_1545       1867    NaN    NaN               NaN               NaN   \n",
       "3      PAT_1989       4061    NaN    NaN               NaN               NaN   \n",
       "4       PAT_684       1302  False   True         POMERANIA         POMERANIA   \n",
       "...         ...        ...    ...    ...               ...               ...   \n",
       "2293   PAT_1708       3156    NaN    NaN               NaN               NaN   \n",
       "2294     PAT_46        880  False  False         POMERANIA         POMERANIA   \n",
       "2295   PAT_1343       1217    NaN    NaN               NaN               NaN   \n",
       "2296    PAT_326        690  False  False         POMERANIA         POMERANIA   \n",
       "2297   PAT_1714       3189    NaN    NaN               NaN               NaN   \n",
       "\n",
       "      age pesticide  gender skin_cancer_history  ... diameter_2 diagnostic  \\\n",
       "0       8       NaN     NaN                 NaN  ...        NaN        NEV   \n",
       "1      55     False  FEMALE                True  ...        5.0        BCC   \n",
       "2      77       NaN     NaN                 NaN  ...        NaN        ACK   \n",
       "3      75       NaN     NaN                 NaN  ...        NaN        ACK   \n",
       "4      79     False    MALE                True  ...        5.0        BCC   \n",
       "...   ...       ...     ...                 ...  ...        ...        ...   \n",
       "2293   73       NaN     NaN                 NaN  ...        NaN        ACK   \n",
       "2294   55     False  FEMALE                True  ...       12.0        BCC   \n",
       "2295   74       NaN     NaN                 NaN  ...        NaN        SEK   \n",
       "2296   58      True  FEMALE                True  ...        4.0        BCC   \n",
       "2297   41       NaN     NaN                 NaN  ...        NaN        SEK   \n",
       "\n",
       "       itch   grew   hurt  changed  bleed elevation                 img_id  \\\n",
       "0     False  False  False    False  False     False  PAT_1516_1765_530.png   \n",
       "1      True   True  False     True   True      True     PAT_46_881_939.png   \n",
       "2      True  False  False    False  False     False  PAT_1545_1867_547.png   \n",
       "3      True  False  False    False  False     False  PAT_1989_4061_934.png   \n",
       "4      True   True  False    False   True      True   PAT_684_1302_588.png   \n",
       "...     ...    ...    ...      ...    ...       ...                    ...   \n",
       "2293   True  False  False    False  False     False  PAT_1708_3156_175.png   \n",
       "2294   True   True  False     True  False     False     PAT_46_880_140.png   \n",
       "2295  False  False  False    False  False     False  PAT_1343_1217_404.png   \n",
       "2296   True  False  False    False  False      True    PAT_326_690_823.png   \n",
       "2297  False   True  False    False  False      True  PAT_1714_3189_989.png   \n",
       "\n",
       "     biopsed  \n",
       "0      False  \n",
       "1       True  \n",
       "2      False  \n",
       "3      False  \n",
       "4       True  \n",
       "...      ...  \n",
       "2293   False  \n",
       "2294    True  \n",
       "2295   False  \n",
       "2296    True  \n",
       "2297   False  \n",
       "\n",
       "[2298 rows x 26 columns]"
      ]
     },
     "execution_count": 52,
     "metadata": {},
     "output_type": "execute_result"
    }
   ],
   "source": [
    "skin_data"
   ]
  },
  {
   "cell_type": "code",
   "execution_count": 53,
   "metadata": {},
   "outputs": [
    {
     "data": {
      "text/plain": [
       "BCC    845\n",
       "ACK    730\n",
       "NEV    244\n",
       "SEK    235\n",
       "SCC    192\n",
       "MEL     52\n",
       "Name: diagnostic, dtype: int64"
      ]
     },
     "execution_count": 53,
     "metadata": {},
     "output_type": "execute_result"
    }
   ],
   "source": [
    "skin_data['diagnostic'].value_counts()"
   ]
  },
  {
   "cell_type": "code",
   "execution_count": 54,
   "metadata": {},
   "outputs": [],
   "source": [
    "chart = skin_data['diagnostic'].value_counts()"
   ]
  },
  {
   "cell_type": "code",
   "execution_count": 55,
   "metadata": {},
   "outputs": [],
   "source": [
    "chart = pd.DataFrame(data = chart )"
   ]
  },
  {
   "cell_type": "code",
   "execution_count": 56,
   "metadata": {},
   "outputs": [
    {
     "data": {
      "text/html": [
       "<div>\n",
       "<style scoped>\n",
       "    .dataframe tbody tr th:only-of-type {\n",
       "        vertical-align: middle;\n",
       "    }\n",
       "\n",
       "    .dataframe tbody tr th {\n",
       "        vertical-align: top;\n",
       "    }\n",
       "\n",
       "    .dataframe thead th {\n",
       "        text-align: right;\n",
       "    }\n",
       "</style>\n",
       "<table border=\"1\" class=\"dataframe\">\n",
       "  <thead>\n",
       "    <tr style=\"text-align: right;\">\n",
       "      <th></th>\n",
       "      <th>diagnostic</th>\n",
       "    </tr>\n",
       "  </thead>\n",
       "  <tbody>\n",
       "    <tr>\n",
       "      <td>BCC</td>\n",
       "      <td>845</td>\n",
       "    </tr>\n",
       "    <tr>\n",
       "      <td>ACK</td>\n",
       "      <td>730</td>\n",
       "    </tr>\n",
       "    <tr>\n",
       "      <td>NEV</td>\n",
       "      <td>244</td>\n",
       "    </tr>\n",
       "    <tr>\n",
       "      <td>SEK</td>\n",
       "      <td>235</td>\n",
       "    </tr>\n",
       "    <tr>\n",
       "      <td>SCC</td>\n",
       "      <td>192</td>\n",
       "    </tr>\n",
       "    <tr>\n",
       "      <td>MEL</td>\n",
       "      <td>52</td>\n",
       "    </tr>\n",
       "  </tbody>\n",
       "</table>\n",
       "</div>"
      ],
      "text/plain": [
       "     diagnostic\n",
       "BCC         845\n",
       "ACK         730\n",
       "NEV         244\n",
       "SEK         235\n",
       "SCC         192\n",
       "MEL          52"
      ]
     },
     "execution_count": 56,
     "metadata": {},
     "output_type": "execute_result"
    }
   ],
   "source": [
    "chart"
   ]
  },
  {
   "cell_type": "code",
   "execution_count": 58,
   "metadata": {},
   "outputs": [
    {
     "data": {
      "image/png": "[encoded data removed]",
      "text/plain": [
       "<Figure size 432x288 with 1 Axes>"
      ]
     },
     "metadata": {},
     "output_type": "display_data"
    }
   ],
   "source": [
    "chart.plot.bar(title  = \"PAD-UFES-20 :Images per Diagnosis Class\")\n",
    "plot.show(block=True)"
   ]
  },
  {
   "cell_type": "code",
   "execution_count": 15,
   "metadata": {},
   "outputs": [],
   "source": [
    "age = skin_data['age'].value_counts()"
   ]
  },
  {
   "cell_type": "code",
   "execution_count": 24,
   "metadata": {},
   "outputs": [],
   "source": [
    "age.columns = ['Age','Count']"
   ]
  },
  {
   "cell_type": "code",
   "execution_count": 19,
   "metadata": {},
   "outputs": [
    {
     "name": "stdout",
     "output_type": "stream",
     "text": [
      "['NEV', 'BCC', 'ACK', 'SEK', 'SCC', 'MEL']\n"
     ]
    }
   ],
   "source": [
    "label = skin_data['diagnostic'].unique().tolist()\n",
    "print(label)\n",
    "label_images = []"
   ]
  },
  {
   "cell_type": "code",
   "execution_count": 14,
   "metadata": {},
   "outputs": [],
   "source": [
    "dest_dir = 'C:/Users/60078468/Downloads/zr7vgbcyr2-1/images_by_class/'\n",
    "data_dir = 'C:/Users/60078468/Downloads/zr7vgbcyr2-1/images/'"
   ]
  },
  {
   "cell_type": "code",
   "execution_count": 16,
   "metadata": {},
   "outputs": [
    {
     "name": "stdout",
     "output_type": "stream",
     "text": [
      "C:/Users/60078468/Downloads/zr7vgbcyr2-1/images_by_class/NEV/\n",
      "C:/Users/60078468/Downloads/zr7vgbcyr2-1/images_by_class/BCC/\n",
      "C:/Users/60078468/Downloads/zr7vgbcyr2-1/images_by_class/ACK/\n",
      "C:/Users/60078468/Downloads/zr7vgbcyr2-1/images_by_class/SEK/\n",
      "C:/Users/60078468/Downloads/zr7vgbcyr2-1/images_by_class/SCC/\n",
      "C:/Users/60078468/Downloads/zr7vgbcyr2-1/images_by_class/MEL/\n"
     ]
    }
   ],
   "source": [
    "for i in label:\n",
    "    print(dest_dir + str(i) + '/')\n",
    "    os.mkdir(dest_dir + str(i))\n",
    "    sample = skin_data[skin_data['diagnostic'] == i]['img_id']\n",
    "    label_images.extend(sample)\n",
    "    for id in label_images:\n",
    "        shutil.copyfile((data_dir + '/' + id ), (dest_dir + str(i) + '/' + id ))\n",
    "    label_images = []"
   ]
  },
  {
   "cell_type": "code",
   "execution_count": 59,
   "metadata": {},
   "outputs": [],
   "source": [
    "isic2019_data = pd.read_csv('C:/Users/60078468/Downloads/ISIC2019/ISIC_2019_Training_GroundTruth.csv')"
   ]
  },
  {
   "cell_type": "code",
   "execution_count": 61,
   "metadata": {},
   "outputs": [
    {
     "data": {
      "text/html": [
       "<div>\n",
       "<style scoped>\n",
       "    .dataframe tbody tr th:only-of-type {\n",
       "        vertical-align: middle;\n",
       "    }\n",
       "\n",
       "    .dataframe tbody tr th {\n",
       "        vertical-align: top;\n",
       "    }\n",
       "\n",
       "    .dataframe thead th {\n",
       "        text-align: right;\n",
       "    }\n",
       "</style>\n",
       "<table border=\"1\" class=\"dataframe\">\n",
       "  <thead>\n",
       "    <tr style=\"text-align: right;\">\n",
       "      <th></th>\n",
       "      <th>image</th>\n",
       "      <th>MEL</th>\n",
       "      <th>NV</th>\n",
       "      <th>BCC</th>\n",
       "      <th>AK</th>\n",
       "      <th>BKL</th>\n",
       "      <th>DF</th>\n",
       "      <th>VASC</th>\n",
       "      <th>SCC</th>\n",
       "      <th>UNK</th>\n",
       "    </tr>\n",
       "  </thead>\n",
       "  <tbody>\n",
       "    <tr>\n",
       "      <td>0</td>\n",
       "      <td>ISIC_0000000</td>\n",
       "      <td>0.0</td>\n",
       "      <td>1.0</td>\n",
       "      <td>0.0</td>\n",
       "      <td>0.0</td>\n",
       "      <td>0.0</td>\n",
       "      <td>0.0</td>\n",
       "      <td>0.0</td>\n",
       "      <td>0.0</td>\n",
       "      <td>0.0</td>\n",
       "    </tr>\n",
       "    <tr>\n",
       "      <td>1</td>\n",
       "      <td>ISIC_0000001</td>\n",
       "      <td>0.0</td>\n",
       "      <td>1.0</td>\n",
       "      <td>0.0</td>\n",
       "      <td>0.0</td>\n",
       "      <td>0.0</td>\n",
       "      <td>0.0</td>\n",
       "      <td>0.0</td>\n",
       "      <td>0.0</td>\n",
       "      <td>0.0</td>\n",
       "    </tr>\n",
       "    <tr>\n",
       "      <td>2</td>\n",
       "      <td>ISIC_0000002</td>\n",
       "      <td>1.0</td>\n",
       "      <td>0.0</td>\n",
       "      <td>0.0</td>\n",
       "      <td>0.0</td>\n",
       "      <td>0.0</td>\n",
       "      <td>0.0</td>\n",
       "      <td>0.0</td>\n",
       "      <td>0.0</td>\n",
       "      <td>0.0</td>\n",
       "    </tr>\n",
       "    <tr>\n",
       "      <td>3</td>\n",
       "      <td>ISIC_0000003</td>\n",
       "      <td>0.0</td>\n",
       "      <td>1.0</td>\n",
       "      <td>0.0</td>\n",
       "      <td>0.0</td>\n",
       "      <td>0.0</td>\n",
       "      <td>0.0</td>\n",
       "      <td>0.0</td>\n",
       "      <td>0.0</td>\n",
       "      <td>0.0</td>\n",
       "    </tr>\n",
       "    <tr>\n",
       "      <td>4</td>\n",
       "      <td>ISIC_0000004</td>\n",
       "      <td>1.0</td>\n",
       "      <td>0.0</td>\n",
       "      <td>0.0</td>\n",
       "      <td>0.0</td>\n",
       "      <td>0.0</td>\n",
       "      <td>0.0</td>\n",
       "      <td>0.0</td>\n",
       "      <td>0.0</td>\n",
       "      <td>0.0</td>\n",
       "    </tr>\n",
       "    <tr>\n",
       "      <td>...</td>\n",
       "      <td>...</td>\n",
       "      <td>...</td>\n",
       "      <td>...</td>\n",
       "      <td>...</td>\n",
       "      <td>...</td>\n",
       "      <td>...</td>\n",
       "      <td>...</td>\n",
       "      <td>...</td>\n",
       "      <td>...</td>\n",
       "      <td>...</td>\n",
       "    </tr>\n",
       "    <tr>\n",
       "      <td>25326</td>\n",
       "      <td>ISIC_0073247</td>\n",
       "      <td>0.0</td>\n",
       "      <td>0.0</td>\n",
       "      <td>1.0</td>\n",
       "      <td>0.0</td>\n",
       "      <td>0.0</td>\n",
       "      <td>0.0</td>\n",
       "      <td>0.0</td>\n",
       "      <td>0.0</td>\n",
       "      <td>0.0</td>\n",
       "    </tr>\n",
       "    <tr>\n",
       "      <td>25327</td>\n",
       "      <td>ISIC_0073248</td>\n",
       "      <td>0.0</td>\n",
       "      <td>0.0</td>\n",
       "      <td>0.0</td>\n",
       "      <td>0.0</td>\n",
       "      <td>1.0</td>\n",
       "      <td>0.0</td>\n",
       "      <td>0.0</td>\n",
       "      <td>0.0</td>\n",
       "      <td>0.0</td>\n",
       "    </tr>\n",
       "    <tr>\n",
       "      <td>25328</td>\n",
       "      <td>ISIC_0073249</td>\n",
       "      <td>1.0</td>\n",
       "      <td>0.0</td>\n",
       "      <td>0.0</td>\n",
       "      <td>0.0</td>\n",
       "      <td>0.0</td>\n",
       "      <td>0.0</td>\n",
       "      <td>0.0</td>\n",
       "      <td>0.0</td>\n",
       "      <td>0.0</td>\n",
       "    </tr>\n",
       "    <tr>\n",
       "      <td>25329</td>\n",
       "      <td>ISIC_0073251</td>\n",
       "      <td>0.0</td>\n",
       "      <td>1.0</td>\n",
       "      <td>0.0</td>\n",
       "      <td>0.0</td>\n",
       "      <td>0.0</td>\n",
       "      <td>0.0</td>\n",
       "      <td>0.0</td>\n",
       "      <td>0.0</td>\n",
       "      <td>0.0</td>\n",
       "    </tr>\n",
       "    <tr>\n",
       "      <td>25330</td>\n",
       "      <td>ISIC_0073254</td>\n",
       "      <td>0.0</td>\n",
       "      <td>0.0</td>\n",
       "      <td>0.0</td>\n",
       "      <td>0.0</td>\n",
       "      <td>1.0</td>\n",
       "      <td>0.0</td>\n",
       "      <td>0.0</td>\n",
       "      <td>0.0</td>\n",
       "      <td>0.0</td>\n",
       "    </tr>\n",
       "  </tbody>\n",
       "</table>\n",
       "<p>25331 rows × 10 columns</p>\n",
       "</div>"
      ],
      "text/plain": [
       "              image  MEL   NV  BCC   AK  BKL   DF  VASC  SCC  UNK\n",
       "0      ISIC_0000000  0.0  1.0  0.0  0.0  0.0  0.0   0.0  0.0  0.0\n",
       "1      ISIC_0000001  0.0  1.0  0.0  0.0  0.0  0.0   0.0  0.0  0.0\n",
       "2      ISIC_0000002  1.0  0.0  0.0  0.0  0.0  0.0   0.0  0.0  0.0\n",
       "3      ISIC_0000003  0.0  1.0  0.0  0.0  0.0  0.0   0.0  0.0  0.0\n",
       "4      ISIC_0000004  1.0  0.0  0.0  0.0  0.0  0.0   0.0  0.0  0.0\n",
       "...             ...  ...  ...  ...  ...  ...  ...   ...  ...  ...\n",
       "25326  ISIC_0073247  0.0  0.0  1.0  0.0  0.0  0.0   0.0  0.0  0.0\n",
       "25327  ISIC_0073248  0.0  0.0  0.0  0.0  1.0  0.0   0.0  0.0  0.0\n",
       "25328  ISIC_0073249  1.0  0.0  0.0  0.0  0.0  0.0   0.0  0.0  0.0\n",
       "25329  ISIC_0073251  0.0  1.0  0.0  0.0  0.0  0.0   0.0  0.0  0.0\n",
       "25330  ISIC_0073254  0.0  0.0  0.0  0.0  1.0  0.0   0.0  0.0  0.0\n",
       "\n",
       "[25331 rows x 10 columns]"
      ]
     },
     "execution_count": 61,
     "metadata": {},
     "output_type": "execute_result"
    }
   ],
   "source": [
    "isic2019_data"
   ]
  },
  {
   "cell_type": "code",
   "execution_count": 62,
   "metadata": {},
   "outputs": [
    {
     "name": "stdout",
     "output_type": "stream",
     "text": [
      "Index(['image', 'MEL', 'NV', 'BCC', 'AK', 'BKL', 'DF', 'VASC', 'SCC', 'UNK'], dtype='object')\n"
     ]
    }
   ],
   "source": [
    "print(isic2019_data.columns)"
   ]
  },
  {
   "cell_type": "code",
   "execution_count": 63,
   "metadata": {},
   "outputs": [],
   "source": [
    "isic2019 = isic2019_data.melt(id_vars = 'image', var_name = 'diagnostic', value_name = 'Flag')"
   ]
  },
  {
   "cell_type": "code",
   "execution_count": 64,
   "metadata": {},
   "outputs": [
    {
     "data": {
      "text/plain": [
       "(25331, 10)"
      ]
     },
     "execution_count": 64,
     "metadata": {},
     "output_type": "execute_result"
    }
   ],
   "source": [
    "isic2019_data.shape"
   ]
  },
  {
   "cell_type": "code",
   "execution_count": 65,
   "metadata": {},
   "outputs": [
    {
     "data": {
      "text/html": [
       "<div>\n",
       "<style scoped>\n",
       "    .dataframe tbody tr th:only-of-type {\n",
       "        vertical-align: middle;\n",
       "    }\n",
       "\n",
       "    .dataframe tbody tr th {\n",
       "        vertical-align: top;\n",
       "    }\n",
       "\n",
       "    .dataframe thead th {\n",
       "        text-align: right;\n",
       "    }\n",
       "</style>\n",
       "<table border=\"1\" class=\"dataframe\">\n",
       "  <thead>\n",
       "    <tr style=\"text-align: right;\">\n",
       "      <th></th>\n",
       "      <th>image</th>\n",
       "      <th>diagnostic</th>\n",
       "      <th>Flag</th>\n",
       "    </tr>\n",
       "  </thead>\n",
       "  <tbody>\n",
       "    <tr>\n",
       "      <td>0</td>\n",
       "      <td>ISIC_0000000</td>\n",
       "      <td>MEL</td>\n",
       "      <td>0.0</td>\n",
       "    </tr>\n",
       "    <tr>\n",
       "      <td>1</td>\n",
       "      <td>ISIC_0000001</td>\n",
       "      <td>MEL</td>\n",
       "      <td>0.0</td>\n",
       "    </tr>\n",
       "    <tr>\n",
       "      <td>2</td>\n",
       "      <td>ISIC_0000002</td>\n",
       "      <td>MEL</td>\n",
       "      <td>1.0</td>\n",
       "    </tr>\n",
       "    <tr>\n",
       "      <td>3</td>\n",
       "      <td>ISIC_0000003</td>\n",
       "      <td>MEL</td>\n",
       "      <td>0.0</td>\n",
       "    </tr>\n",
       "    <tr>\n",
       "      <td>4</td>\n",
       "      <td>ISIC_0000004</td>\n",
       "      <td>MEL</td>\n",
       "      <td>1.0</td>\n",
       "    </tr>\n",
       "    <tr>\n",
       "      <td>...</td>\n",
       "      <td>...</td>\n",
       "      <td>...</td>\n",
       "      <td>...</td>\n",
       "    </tr>\n",
       "    <tr>\n",
       "      <td>227974</td>\n",
       "      <td>ISIC_0073247</td>\n",
       "      <td>UNK</td>\n",
       "      <td>0.0</td>\n",
       "    </tr>\n",
       "    <tr>\n",
       "      <td>227975</td>\n",
       "      <td>ISIC_0073248</td>\n",
       "      <td>UNK</td>\n",
       "      <td>0.0</td>\n",
       "    </tr>\n",
       "    <tr>\n",
       "      <td>227976</td>\n",
       "      <td>ISIC_0073249</td>\n",
       "      <td>UNK</td>\n",
       "      <td>0.0</td>\n",
       "    </tr>\n",
       "    <tr>\n",
       "      <td>227977</td>\n",
       "      <td>ISIC_0073251</td>\n",
       "      <td>UNK</td>\n",
       "      <td>0.0</td>\n",
       "    </tr>\n",
       "    <tr>\n",
       "      <td>227978</td>\n",
       "      <td>ISIC_0073254</td>\n",
       "      <td>UNK</td>\n",
       "      <td>0.0</td>\n",
       "    </tr>\n",
       "  </tbody>\n",
       "</table>\n",
       "<p>227979 rows × 3 columns</p>\n",
       "</div>"
      ],
      "text/plain": [
       "               image diagnostic  Flag\n",
       "0       ISIC_0000000        MEL   0.0\n",
       "1       ISIC_0000001        MEL   0.0\n",
       "2       ISIC_0000002        MEL   1.0\n",
       "3       ISIC_0000003        MEL   0.0\n",
       "4       ISIC_0000004        MEL   1.0\n",
       "...              ...        ...   ...\n",
       "227974  ISIC_0073247        UNK   0.0\n",
       "227975  ISIC_0073248        UNK   0.0\n",
       "227976  ISIC_0073249        UNK   0.0\n",
       "227977  ISIC_0073251        UNK   0.0\n",
       "227978  ISIC_0073254        UNK   0.0\n",
       "\n",
       "[227979 rows x 3 columns]"
      ]
     },
     "execution_count": 65,
     "metadata": {},
     "output_type": "execute_result"
    }
   ],
   "source": [
    "isic2019"
   ]
  },
  {
   "cell_type": "code",
   "execution_count": 66,
   "metadata": {},
   "outputs": [
    {
     "data": {
      "text/plain": [
       "(227979, 3)"
      ]
     },
     "execution_count": 66,
     "metadata": {},
     "output_type": "execute_result"
    }
   ],
   "source": [
    "isic2019.shape"
   ]
  },
  {
   "cell_type": "code",
   "execution_count": 67,
   "metadata": {},
   "outputs": [],
   "source": [
    "isic2019 = isic2019[isic2019.Flag==1]"
   ]
  },
  {
   "cell_type": "code",
   "execution_count": 68,
   "metadata": {},
   "outputs": [
    {
     "data": {
      "text/html": [
       "<div>\n",
       "<style scoped>\n",
       "    .dataframe tbody tr th:only-of-type {\n",
       "        vertical-align: middle;\n",
       "    }\n",
       "\n",
       "    .dataframe tbody tr th {\n",
       "        vertical-align: top;\n",
       "    }\n",
       "\n",
       "    .dataframe thead th {\n",
       "        text-align: right;\n",
       "    }\n",
       "</style>\n",
       "<table border=\"1\" class=\"dataframe\">\n",
       "  <thead>\n",
       "    <tr style=\"text-align: right;\">\n",
       "      <th></th>\n",
       "      <th>image</th>\n",
       "      <th>diagnostic</th>\n",
       "      <th>Flag</th>\n",
       "    </tr>\n",
       "  </thead>\n",
       "  <tbody>\n",
       "    <tr>\n",
       "      <td>2</td>\n",
       "      <td>ISIC_0000002</td>\n",
       "      <td>MEL</td>\n",
       "      <td>1.0</td>\n",
       "    </tr>\n",
       "    <tr>\n",
       "      <td>4</td>\n",
       "      <td>ISIC_0000004</td>\n",
       "      <td>MEL</td>\n",
       "      <td>1.0</td>\n",
       "    </tr>\n",
       "    <tr>\n",
       "      <td>12</td>\n",
       "      <td>ISIC_0000013</td>\n",
       "      <td>MEL</td>\n",
       "      <td>1.0</td>\n",
       "    </tr>\n",
       "    <tr>\n",
       "      <td>21</td>\n",
       "      <td>ISIC_0000022_downsampled</td>\n",
       "      <td>MEL</td>\n",
       "      <td>1.0</td>\n",
       "    </tr>\n",
       "    <tr>\n",
       "      <td>25</td>\n",
       "      <td>ISIC_0000026_downsampled</td>\n",
       "      <td>MEL</td>\n",
       "      <td>1.0</td>\n",
       "    </tr>\n",
       "    <tr>\n",
       "      <td>...</td>\n",
       "      <td>...</td>\n",
       "      <td>...</td>\n",
       "      <td>...</td>\n",
       "    </tr>\n",
       "    <tr>\n",
       "      <td>202498</td>\n",
       "      <td>ISIC_0073022</td>\n",
       "      <td>SCC</td>\n",
       "      <td>1.0</td>\n",
       "    </tr>\n",
       "    <tr>\n",
       "      <td>202503</td>\n",
       "      <td>ISIC_0073030</td>\n",
       "      <td>SCC</td>\n",
       "      <td>1.0</td>\n",
       "    </tr>\n",
       "    <tr>\n",
       "      <td>202541</td>\n",
       "      <td>ISIC_0073088</td>\n",
       "      <td>SCC</td>\n",
       "      <td>1.0</td>\n",
       "    </tr>\n",
       "    <tr>\n",
       "      <td>202606</td>\n",
       "      <td>ISIC_0073195</td>\n",
       "      <td>SCC</td>\n",
       "      <td>1.0</td>\n",
       "    </tr>\n",
       "    <tr>\n",
       "      <td>202627</td>\n",
       "      <td>ISIC_0073223</td>\n",
       "      <td>SCC</td>\n",
       "      <td>1.0</td>\n",
       "    </tr>\n",
       "  </tbody>\n",
       "</table>\n",
       "<p>25331 rows × 3 columns</p>\n",
       "</div>"
      ],
      "text/plain": [
       "                           image diagnostic  Flag\n",
       "2                   ISIC_0000002        MEL   1.0\n",
       "4                   ISIC_0000004        MEL   1.0\n",
       "12                  ISIC_0000013        MEL   1.0\n",
       "21      ISIC_0000022_downsampled        MEL   1.0\n",
       "25      ISIC_0000026_downsampled        MEL   1.0\n",
       "...                          ...        ...   ...\n",
       "202498              ISIC_0073022        SCC   1.0\n",
       "202503              ISIC_0073030        SCC   1.0\n",
       "202541              ISIC_0073088        SCC   1.0\n",
       "202606              ISIC_0073195        SCC   1.0\n",
       "202627              ISIC_0073223        SCC   1.0\n",
       "\n",
       "[25331 rows x 3 columns]"
      ]
     },
     "execution_count": 68,
     "metadata": {},
     "output_type": "execute_result"
    }
   ],
   "source": [
    "isic2019"
   ]
  },
  {
   "cell_type": "code",
   "execution_count": 69,
   "metadata": {},
   "outputs": [],
   "source": [
    "isic2019 =isic2019.drop(columns=['Flag'])"
   ]
  },
  {
   "cell_type": "code",
   "execution_count": 70,
   "metadata": {},
   "outputs": [
    {
     "data": {
      "text/html": [
       "<div>\n",
       "<style scoped>\n",
       "    .dataframe tbody tr th:only-of-type {\n",
       "        vertical-align: middle;\n",
       "    }\n",
       "\n",
       "    .dataframe tbody tr th {\n",
       "        vertical-align: top;\n",
       "    }\n",
       "\n",
       "    .dataframe thead th {\n",
       "        text-align: right;\n",
       "    }\n",
       "</style>\n",
       "<table border=\"1\" class=\"dataframe\">\n",
       "  <thead>\n",
       "    <tr style=\"text-align: right;\">\n",
       "      <th></th>\n",
       "      <th>image</th>\n",
       "      <th>diagnostic</th>\n",
       "    </tr>\n",
       "  </thead>\n",
       "  <tbody>\n",
       "    <tr>\n",
       "      <td>2</td>\n",
       "      <td>ISIC_0000002</td>\n",
       "      <td>MEL</td>\n",
       "    </tr>\n",
       "    <tr>\n",
       "      <td>4</td>\n",
       "      <td>ISIC_0000004</td>\n",
       "      <td>MEL</td>\n",
       "    </tr>\n",
       "    <tr>\n",
       "      <td>12</td>\n",
       "      <td>ISIC_0000013</td>\n",
       "      <td>MEL</td>\n",
       "    </tr>\n",
       "    <tr>\n",
       "      <td>21</td>\n",
       "      <td>ISIC_0000022_downsampled</td>\n",
       "      <td>MEL</td>\n",
       "    </tr>\n",
       "    <tr>\n",
       "      <td>25</td>\n",
       "      <td>ISIC_0000026_downsampled</td>\n",
       "      <td>MEL</td>\n",
       "    </tr>\n",
       "    <tr>\n",
       "      <td>...</td>\n",
       "      <td>...</td>\n",
       "      <td>...</td>\n",
       "    </tr>\n",
       "    <tr>\n",
       "      <td>202498</td>\n",
       "      <td>ISIC_0073022</td>\n",
       "      <td>SCC</td>\n",
       "    </tr>\n",
       "    <tr>\n",
       "      <td>202503</td>\n",
       "      <td>ISIC_0073030</td>\n",
       "      <td>SCC</td>\n",
       "    </tr>\n",
       "    <tr>\n",
       "      <td>202541</td>\n",
       "      <td>ISIC_0073088</td>\n",
       "      <td>SCC</td>\n",
       "    </tr>\n",
       "    <tr>\n",
       "      <td>202606</td>\n",
       "      <td>ISIC_0073195</td>\n",
       "      <td>SCC</td>\n",
       "    </tr>\n",
       "    <tr>\n",
       "      <td>202627</td>\n",
       "      <td>ISIC_0073223</td>\n",
       "      <td>SCC</td>\n",
       "    </tr>\n",
       "  </tbody>\n",
       "</table>\n",
       "<p>25331 rows × 2 columns</p>\n",
       "</div>"
      ],
      "text/plain": [
       "                           image diagnostic\n",
       "2                   ISIC_0000002        MEL\n",
       "4                   ISIC_0000004        MEL\n",
       "12                  ISIC_0000013        MEL\n",
       "21      ISIC_0000022_downsampled        MEL\n",
       "25      ISIC_0000026_downsampled        MEL\n",
       "...                          ...        ...\n",
       "202498              ISIC_0073022        SCC\n",
       "202503              ISIC_0073030        SCC\n",
       "202541              ISIC_0073088        SCC\n",
       "202606              ISIC_0073195        SCC\n",
       "202627              ISIC_0073223        SCC\n",
       "\n",
       "[25331 rows x 2 columns]"
      ]
     },
     "execution_count": 70,
     "metadata": {},
     "output_type": "execute_result"
    }
   ],
   "source": [
    "isic2019"
   ]
  },
  {
   "cell_type": "code",
   "execution_count": 71,
   "metadata": {},
   "outputs": [
    {
     "data": {
      "text/plain": [
       "NV      12875\n",
       "MEL      4522\n",
       "BCC      3323\n",
       "BKL      2624\n",
       "AK        867\n",
       "SCC       628\n",
       "VASC      253\n",
       "DF        239\n",
       "Name: diagnostic, dtype: int64"
      ]
     },
     "execution_count": 71,
     "metadata": {},
     "output_type": "execute_result"
    }
   ],
   "source": [
    "isic2019['diagnostic'].value_counts()"
   ]
  },
  {
   "cell_type": "code",
   "execution_count": 72,
   "metadata": {},
   "outputs": [],
   "source": [
    "chart = isic2019['diagnostic'].value_counts()"
   ]
  },
  {
   "cell_type": "code",
   "execution_count": 73,
   "metadata": {},
   "outputs": [],
   "source": [
    "chart.columns =['Class', 'Count']"
   ]
  },
  {
   "cell_type": "code",
   "execution_count": 75,
   "metadata": {},
   "outputs": [
    {
     "data": {
      "image/png": "[encoded data removed]",
      "text/plain": [
       "<Figure size 432x288 with 1 Axes>"
      ]
     },
     "metadata": {},
     "output_type": "display_data"
    }
   ],
   "source": [
    "chart.plot.bar(x = \"class\" ,y = \"Count\" ,title  = \"ISIC2019 - Images per Lesion Class\")\n",
    "plot.show(block=True)"
   ]
  },
  {
   "cell_type": "code",
   "execution_count": 35,
   "metadata": {},
   "outputs": [],
   "source": [
    "dest_dir = 'C:/Users/60078468/Downloads/ISIC2019/images_by_class/'\n",
    "data_dir = 'C:/Users/60078468/Downloads/ISIC2019/ISIC_2019_Training_Input/ISIC_2019_Training_Input/'"
   ]
  },
  {
   "cell_type": "code",
   "execution_count": null,
   "metadata": {},
   "outputs": [],
   "source": [
    "label = isic2019['diagnostic'].unique().tolist()\n",
    "print(label)\n",
    "label_images = []"
   ]
  },
  {
   "cell_type": "code",
   "execution_count": 40,
   "metadata": {},
   "outputs": [
    {
     "name": "stdout",
     "output_type": "stream",
     "text": [
      "C:/Users/60078468/Downloads/ISIC2019/images_by_class/NEV/\n",
      "C:/Users/60078468/Downloads/ISIC2019/images_by_class/BCC/\n",
      "C:/Users/60078468/Downloads/ISIC2019/images_by_class/ACK/\n",
      "C:/Users/60078468/Downloads/ISIC2019/images_by_class/SEK/\n",
      "C:/Users/60078468/Downloads/ISIC2019/images_by_class/SCC/\n",
      "C:/Users/60078468/Downloads/ISIC2019/images_by_class/MEL/\n"
     ]
    }
   ],
   "source": [
    "for i in label:\n",
    "    print(dest_dir + str(i) + '/')\n",
    "    os.mkdir(dest_dir + str(i))\n",
    "    sample = isic2019[isic2019['diagnostic'] == i]['image']\n",
    "    label_images.extend(sample)\n",
    "    for id in label_images:\n",
    "        shutil.copyfile((data_dir + '/' + id + '.jpg' ), (dest_dir + str(i) + '/' + id+ '.jpg' ))\n",
    "    label_images = []"
   ]
  },
  {
   "cell_type": "code",
   "execution_count": 16,
   "metadata": {},
   "outputs": [],
   "source": [
    "p7_data  =  pd.read_csv('C:/Users/60078468/Downloads/7-Point Criteria Skin Database/release_v0/meta/meta.csv')"
   ]
  },
  {
   "cell_type": "code",
   "execution_count": 18,
   "metadata": {},
   "outputs": [
    {
     "data": {
      "text/plain": [
       "['basal cell carcinoma',\n",
       " 'blue nevus',\n",
       " 'clark nevus',\n",
       " 'combined nevus',\n",
       " 'congenital nevus',\n",
       " 'dermal nevus',\n",
       " 'dermatofibroma',\n",
       " 'lentigo',\n",
       " 'melanoma (in situ)',\n",
       " 'melanoma (less than 0.76 mm)',\n",
       " 'melanoma (0.76 to 1.5 mm)',\n",
       " 'melanoma (more than 1.5 mm)',\n",
       " 'melanoma metastasis',\n",
       " 'melanosis',\n",
       " 'miscellaneous',\n",
       " 'recurrent nevus',\n",
       " 'reed or spitz nevus',\n",
       " 'seborrheic keratosis',\n",
       " 'vascular lesion',\n",
       " 'melanoma']"
      ]
     },
     "execution_count": 18,
     "metadata": {},
     "output_type": "execute_result"
    }
   ],
   "source": [
    "p7_data['diagnosis'].unique().tolist()"
   ]
  },
  {
   "cell_type": "code",
   "execution_count": 19,
   "metadata": {},
   "outputs": [],
   "source": [
    "mapping = {'melanoma (in situ)': 'mel','melanoma (less than 0.76 mm)': 'mel','melanoma (0.76 to 1.5 mm)': 'mel', \n",
    "           'melanoma (0.76 to 1.5 mm)': 'mel','melanoma': 'mel','blue nevus':'others','clark nevus':'others',\n",
    "           'combined nevus':'others','congenital nevus':'others','dermal nevus':'others','dermatofibroma':'others',\n",
    "           'lentigo':'others','melanosis':'others','miscellaneous':'others','recurrent nevus':'others',\n",
    "           'reed or spitz nevus':'others','seborrheic keratosis':'others','vascular lesion':'others',\n",
    "           'basal cell carcinoma':'bcc','melanoma (more than 1.5 mm)':'mel','melanoma metastasis':'mel'}"
   ]
  },
  {
   "cell_type": "code",
   "execution_count": 20,
   "metadata": {},
   "outputs": [
    {
     "data": {
      "text/plain": [
       "{'melanoma (in situ)': 'mel',\n",
       " 'melanoma (less than 0.76 mm)': 'mel',\n",
       " 'melanoma (0.76 to 1.5 mm)': 'mel',\n",
       " 'melanoma': 'mel',\n",
       " 'blue nevus': 'others',\n",
       " 'clark nevus': 'others',\n",
       " 'combined nevus': 'others',\n",
       " 'congenital nevus': 'others',\n",
       " 'dermal nevus': 'others',\n",
       " 'dermatofibroma': 'others',\n",
       " 'lentigo': 'others',\n",
       " 'melanosis': 'others',\n",
       " 'miscellaneous': 'others',\n",
       " 'recurrent nevus': 'others',\n",
       " 'reed or spitz nevus': 'others',\n",
       " 'seborrheic keratosis': 'others',\n",
       " 'vascular lesion': 'others',\n",
       " 'basal cell carcinoma': 'bcc',\n",
       " 'melanoma (more than 1.5 mm)': 'mel',\n",
       " 'melanoma metastasis': 'mel'}"
      ]
     },
     "execution_count": 20,
     "metadata": {},
     "output_type": "execute_result"
    }
   ],
   "source": [
    "mapping"
   ]
  },
  {
   "cell_type": "code",
   "execution_count": 21,
   "metadata": {},
   "outputs": [],
   "source": [
    "p7_data['diagnosis'].replace(mapping, inplace=True)\n"
   ]
  },
  {
   "cell_type": "code",
   "execution_count": 22,
   "metadata": {},
   "outputs": [
    {
     "data": {
      "text/plain": [
       "(1011, 19)"
      ]
     },
     "execution_count": 22,
     "metadata": {},
     "output_type": "execute_result"
    }
   ],
   "source": [
    "p7_data.shape"
   ]
  },
  {
   "cell_type": "code",
   "execution_count": 23,
   "metadata": {},
   "outputs": [
    {
     "data": {
      "text/plain": [
       "others    717\n",
       "mel       252\n",
       "bcc        42\n",
       "Name: diagnosis, dtype: int64"
      ]
     },
     "execution_count": 23,
     "metadata": {},
     "output_type": "execute_result"
    }
   ],
   "source": [
    "p7_data['diagnosis'].value_counts()"
   ]
  },
  {
   "cell_type": "code",
   "execution_count": 54,
   "metadata": {},
   "outputs": [
    {
     "name": "stdout",
     "output_type": "stream",
     "text": [
      "['bcc', 'others', 'mel']\n"
     ]
    }
   ],
   "source": [
    "label = p7_data['diagnosis'].unique().tolist()\n",
    "print(label)\n",
    "label_images = []"
   ]
  },
  {
   "cell_type": "code",
   "execution_count": 55,
   "metadata": {},
   "outputs": [],
   "source": [
    "dest_dir = 'C:/Users/60078468/Downloads/7-Point Criteria Skin Database/images_by_class/'\n",
    "data_dir = 'C:/Users/60078468/Downloads/7-Point Criteria Skin Database/release_v0/images/'"
   ]
  },
  {
   "cell_type": "code",
   "execution_count": 56,
   "metadata": {},
   "outputs": [
    {
     "name": "stdout",
     "output_type": "stream",
     "text": [
      "C:/Users/60078468/Downloads/7-Point Criteria Skin Database/images_by_class/bcc/\n",
      "C:/Users/60078468/Downloads/7-Point Criteria Skin Database/images_by_class/others/\n",
      "C:/Users/60078468/Downloads/7-Point Criteria Skin Database/images_by_class/mel/\n"
     ]
    }
   ],
   "source": [
    "for i in label:\n",
    "    print(dest_dir + str(i) + '/')\n",
    "    os.mkdir(dest_dir + str(i))\n",
    "    sample = p7_data[p7_data['diagnosis'] == i]['clinic']\n",
    "    label_images.extend(sample)\n",
    "    for id in label_images:\n",
    "        shutil.copy((data_dir + id  ), (dest_dir + str(i)+ '/'  ))\n",
    "    label_images = []"
   ]
  },
  {
   "cell_type": "code",
   "execution_count": null,
   "metadata": {},
   "outputs": [],
   "source": []
  }
 ],
 "metadata": {
  "kernelspec": {
   "display_name": "Python 3",
   "language": "python",
   "name": "python3"
  },
  "language_info": {
   "codemirror_mode": {
    "name": "ipython",
    "version": 3
   },
   "file_extension": ".py",
   "mimetype": "text/x-python",
   "name": "python",
   "nbconvert_exporter": "python",
   "pygments_lexer": "ipython3",
   "version": "3.7.4"
  }
 },
 "nbformat": 4,
 "nbformat_minor": 2
}
