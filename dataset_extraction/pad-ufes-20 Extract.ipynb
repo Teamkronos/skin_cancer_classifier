{
 "cells": [
  {
   "cell_type": "code",
   "execution_count": 1,
   "metadata": {},
   "outputs": [],
   "source": [
    "import os\n",
    "import pandas as pd\n",
    "import shutil"
   ]
  },
  {
   "cell_type": "code",
   "execution_count": 2,
   "metadata": {},
   "outputs": [],
   "source": [
    "skin_data = pd.read_csv('/home/ubuntu/data/pad-ufes/metadata.csv')"
   ]
  },
  {
   "cell_type": "code",
   "execution_count": 3,
   "metadata": {},
   "outputs": [
    {
     "data": {
      "text/plain": [
       "BCC    845\n",
       "ACK    730\n",
       "NEV    244\n",
       "SEK    235\n",
       "SCC    192\n",
       "MEL     52\n",
       "Name: diagnostic, dtype: int64"
      ]
     },
     "execution_count": 3,
     "metadata": {},
     "output_type": "execute_result"
    }
   ],
   "source": [
    "skin_data['diagnostic'].value_counts()"
   ]
  },
  {
   "cell_type": "code",
   "execution_count": 4,
   "metadata": {},
   "outputs": [
    {
     "name": "stdout",
     "output_type": "stream",
     "text": [
      "['NEV', 'BCC', 'ACK', 'SEK', 'SCC', 'MEL']\n"
     ]
    }
   ],
   "source": [
    "label = skin_data['diagnostic'].unique().tolist()\n",
    "print(label)\n",
    "label_images = []"
   ]
  },
  {
   "cell_type": "code",
   "execution_count": 5,
   "metadata": {},
   "outputs": [],
   "source": [
    "dest_dir = '/home/ubuntu/data/pad-ufes/images_by_class/'\n",
    "data_dir = '/home/ubuntu/data/pad-ufes/images/'"
   ]
  },
  {
   "cell_type": "code",
   "execution_count": 6,
   "metadata": {},
   "outputs": [
    {
     "name": "stdout",
     "output_type": "stream",
     "text": [
      "/home/ubuntu/data/pad-ufes/images_by_class/NEV/\n",
      "/home/ubuntu/data/pad-ufes/images_by_class/BCC/\n",
      "/home/ubuntu/data/pad-ufes/images_by_class/ACK/\n",
      "/home/ubuntu/data/pad-ufes/images_by_class/SEK/\n",
      "/home/ubuntu/data/pad-ufes/images_by_class/SCC/\n",
      "/home/ubuntu/data/pad-ufes/images_by_class/MEL/\n"
     ]
    }
   ],
   "source": [
    "for i in label:\n",
    "    print(dest_dir + str(i) + '/')\n",
    "    os.mkdir(dest_dir + str(i))\n",
    "    sample = skin_data[skin_data['diagnostic'] == i]['img_id']\n",
    "    label_images.extend(sample)\n",
    "    for id in label_images:\n",
    "        shutil.copyfile((data_dir + '/' + id ), (dest_dir + str(i) + '/' + id ))\n",
    "    label_images = []"
   ]
  },
  {
   "cell_type": "code",
   "execution_count": null,
   "metadata": {},
   "outputs": [],
   "source": []
  }
 ],
 "metadata": {
  "kernelspec": {
   "display_name": "Python 3",
   "language": "python",
   "name": "python3"
  },
  "language_info": {
   "codemirror_mode": {
    "name": "ipython",
    "version": 3
   },
   "file_extension": ".py",
   "mimetype": "text/x-python",
   "name": "python",
   "nbconvert_exporter": "python",
   "pygments_lexer": "ipython3",
   "version": "3.8.5"
  }
 },
 "nbformat": 4,
 "nbformat_minor": 4
}
